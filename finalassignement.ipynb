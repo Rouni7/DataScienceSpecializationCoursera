{
 "cells": [
  {
   "cell_type": "markdown",
   "metadata": {},
   "source": [
    "<center>\n",
    "    <img src=\"https://cf-courses-data.s3.us.cloud-object-storage.appdomain.cloud/IBMDeveloperSkillsNetwork-DS0105EN-SkillsNetwork/labs/Module2/images/SN_web_lightmode.png\" width=\"300\" alt=\"cognitiveclass.ai logo\">\n",
    "</center>\n"
   ]
  },
  {
   "cell_type": "markdown",
   "metadata": {},
   "source": [
    "#### Add your code below following the instructions given in the course\n"
   ]
  },
  {
   "cell_type": "markdown",
   "metadata": {},
   "source": [
    "       Q2:      RIDHA OUNI ' TRY FOR FINAL ASSIGNEMENT FOR COURSE 2 IN THE DATA SCIENCE SPECIALIZATION BY IBM "
   ]
  },
  {
   "cell_type": "markdown",
   "metadata": {},
   "source": [
    "Q3: INTRODUCTION :\n",
    "Data science is a multidisciplinary field that involves the use of statistical, mathematical, and programming techniques to extract insights and knowledge from large, complex data sets. It combines elements of computer science, mathematics, statistics, and domain-specific knowledge to analyze data and make data-driven decisions.\n",
    "\n",
    "Data science involves several steps in the data analysis process, including data collection, data cleaning and preparation, data exploration and visualization, statistical analysis, machine learning, and data interpretation and communication. Data scientists use a variety of tools and techniques to perform these tasks, including programming languages like Python and R, statistical software like SAS and SPSS, and data visualization tools like Tableau and Power BI.\n",
    "\n",
    "The applications of data science are broad and diverse, ranging from business and finance to healthcare and social sciences. Companies use data science to make decisions about marketing, product development, and customer retention. Healthcare organizations use data science to analyze patient data and improve healthcare outcomes. Governments use data science to analyze social and economic data and make policy decisions.\n",
    "\n",
    "Overall, data science is an increasingly important field in today's data-driven world, and its applications are likely to expand in the future as the amount of data continues to grow and new techniques are developed.\n",
    "    "
   ]
  },
  {
   "cell_type": "markdown",
   "metadata": {},
   "source": [
    "Q4: Programming Languages : \n",
    "There are several programming languages that are commonly used for data science:\n",
    "\n",
    "Python: Python is the most popular language for data science due to its simplicity, versatility, and extensive library ecosystem. Python is used for data cleaning, data analysis, machine learning, and data visualization.\n",
    "\n",
    "R: R is another popular language for data science that is particularly well-suited for statistical analysis and data visualization. It has a large library of statistical and graphical techniques and is often used in academic research.\n",
    "\n",
    "SQL: SQL is a language used for managing and querying relational databases. It is often used in conjunction with other languages such as Python or R to access and manipulate data.\n",
    "\n",
    "Julia: Julia is a newer language that is gaining popularity in the data science community due to its speed and ease of use. It is particularly well-suited for scientific computing and numerical analysis.\n",
    "\n",
    "MATLAB: MATLAB is a programming language that is often used in engineering and scientific research. It has a large library of mathematical and statistical functions and is commonly used for data analysis and visualization.\n",
    "\n",
    "Other languages that are sometimes used in data science include Scala, SAS, and Java. However, Python and R are the two most commonly used languages in the field."
   ]
  },
  {
   "cell_type": "markdown",
   "metadata": {},
   "source": [
    "Q5: DATA SCIENCE LIBRARIES :\n",
    " here are some popular data science libraries in Python:\n",
    "\n",
    "NumPy: A library for working with numerical data, providing powerful tools for mathematical and scientific computing.\n",
    "\n",
    "Pandas: A library for data manipulation and analysis, providing data structures for efficient data handling and manipulation.\n",
    "\n",
    "Matplotlib: A library for data visualization, providing a variety of chart types and customization options.\n",
    "\n",
    "Seaborn: A library for statistical data visualization, providing more advanced visualizations and statistical analyses than Matplotlib.\n",
    "\n",
    "Scikit-learn: A library for machine learning, providing a range of supervised and unsupervised learning algorithms, including classification, regression, and clustering.\n",
    "\n",
    "TensorFlow: A library for machine learning and deep learning, providing tools for building and training neural networks.\n",
    "\n",
    "Keras: A library for building deep learning models, providing a high-level interface for building and training neural networks.\n",
    "\n",
    "PyTorch: A library for machine learning and deep learning, providing tools for building and training neural networks, with a focus on flexibility and ease of use.\n",
    "\n",
    "Statsmodels: A library for statistical modeling and analysis, providing tools for regression analysis, time series analysis, and more.\n",
    "\n",
    "NLTK: A library for natural language processing, providing tools for tokenization, stemming, and other text processing tasks."
   ]
  },
  {
   "cell_type": "markdown",
   "metadata": {},
   "source": [
    "Q6: here are the data science tools mentioned in Course 2 of the Data Science Specialization on Coursera:\n",
    "\n",
    "R programming language: A popular programming language for statistical computing and graphics.\n",
    "\n",
    "RStudio: An integrated development environment (IDE) for R, providing tools for code editing, debugging, and data visualization.\n",
    "\n",
    "dplyr: A package in R for data manipulation and transformation, providing functions for filtering, sorting, summarizing, and joining data sets.\n",
    "\n",
    "tidyr: A package in R for data tidying and reshaping, providing functions for converting data from wide to long format and vice versa.\n",
    "\n",
    "ggplot2: A package in R for data visualization, providing tools for creating a wide range of static and interactive charts.\n",
    "\n",
    "R Markdown: A format for creating reproducible reports in R, combining code, text, and visualizations in a single document.\n",
    "\n",
    "knitr: A package in R for dynamic report generation, allowing R code to be embedded in a document and executed dynamically.\n",
    "\n",
    "Git: A version control system for software development, allowing users to track changes to code and collaborate with others.\n",
    "\n",
    "GitHub: A web-based platform for hosting and sharing code repositories, providing tools for code review, issue tracking, and collaboration.\n",
    "\n",
    "Unix/Linux command line: A command-line interface for interacting with a computer, allowing users to perform a wide range of tasks and automate repetitive tasks."
   ]
  },
  {
   "cell_type": "code",
   "execution_count": 2,
   "metadata": {},
   "outputs": [
    {
     "name": "stdout",
     "output_type": "stream",
     "text": [
      "            Tool                                        Description\n",
      "0         Python  A popular programming language for data analys...\n",
      "1              R  A programming language for statistical computi...\n",
      "2            SQL     A language for managing and querying databases\n",
      "3         Pandas  A library for data manipulation and analysis i...\n",
      "4          NumPy  A library for working with numerical data in P...\n",
      "5   Scikit-learn           A library for machine learning in Python\n",
      "6     TensorFlow  A library for machine learning and deep learni...\n",
      "7          Keras  A high-level interface for building and traini...\n",
      "8        Tableau  A data visualization tool for creating interac...\n",
      "9       Power BI  A business analytics service for creating inte...\n",
      "10         Spark  A cluster computing framework for big data pro...\n"
     ]
    }
   ],
   "source": [
    "#other version of question 6\n",
    "import pandas as pd\n",
    "\n",
    "data = {'Tool': ['Python', 'R', 'SQL', 'Pandas', 'NumPy', 'Scikit-learn', 'TensorFlow', 'Keras', 'Tableau', 'Power BI', 'Spark'],\n",
    "        'Description': ['A popular programming language for data analysis and machine learning', \n",
    "                        'A programming language for statistical computing and graphics', \n",
    "                        'A language for managing and querying databases', \n",
    "                        'A library for data manipulation and analysis in Python', \n",
    "                        'A library for working with numerical data in Python', \n",
    "                        'A library for machine learning in Python', \n",
    "                        'A library for machine learning and deep learning in Python', \n",
    "                        'A high-level interface for building and training neural networks', \n",
    "                        'A data visualization tool for creating interactive dashboards', \n",
    "                        'A business analytics service for creating interactive visualizations', \n",
    "                        'A cluster computing framework for big data processing']}\n",
    "\n",
    "df = pd.DataFrame(data)\n",
    "\n",
    "print(df)\n"
   ]
  },
  {
   "cell_type": "code",
   "execution_count": 1,
   "metadata": {},
   "outputs": [
    {
     "name": "stdout",
     "output_type": "stream",
     "text": [
      "22\n"
     ]
    }
   ],
   "source": [
    "#Q7\n",
    "x=4*5+2\n",
    "print(x)"
   ]
  },
  {
   "cell_type": "code",
   "execution_count": null,
   "metadata": {},
   "outputs": [],
   "source": [
    "#Q8\n",
    "def arithmatic(a,b,operation):\n",
    "    if(operation==\"mul\"):\n",
    "        return a*b\n",
    "    else :\n",
    "        return a+b;"
   ]
  },
  {
   "cell_type": "code",
   "execution_count": null,
   "metadata": {},
   "outputs": [],
   "source": [
    "#Q9\n",
    "def h2m(hours):\n",
    "    return hours *60"
   ]
  },
  {
   "cell_type": "markdown",
   "metadata": {},
   "source": [
    "Q10 : objectives \n",
    "To introduce data science \n",
    "to list some tools and some programming languages \n",
    "to practice some programming"
   ]
  },
  {
   "cell_type": "markdown",
   "metadata": {},
   "source": [
    "Q11: author : RIDHA OUNI - ENIT -TUNIS -TUNISIA"
   ]
  }
 ],
 "metadata": {
  "kernelspec": {
   "display_name": "Python",
   "language": "python",
   "name": "conda-env-python-py"
  },
  "language_info": {
   "codemirror_mode": {
    "name": "ipython",
    "version": 3
   },
   "file_extension": ".py",
   "mimetype": "text/x-python",
   "name": "python",
   "nbconvert_exporter": "python",
   "pygments_lexer": "ipython3",
   "version": "3.7.12"
  }
 },
 "nbformat": 4,
 "nbformat_minor": 4
}
